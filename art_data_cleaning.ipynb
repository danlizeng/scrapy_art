{
 "cells": [
  {
   "cell_type": "code",
   "execution_count": 18,
   "metadata": {
    "collapsed": false
   },
   "outputs": [
    {
     "data": {
      "text/plain": [
       "{'_id': ObjectId('57b0edc83705470e40e13d0b'),\n",
       " 'artist': ['Magdalena Abakanowicz'],\n",
       " 'details': ['[Polish Sculptor, born in 1930]'],\n",
       " 'genre': [],\n",
       " 'museums': ['Art Institute of Chicago',\n",
       "  'Magdalena Abakanowicz at the Detroit Institute of Arts',\n",
       "  'Fine Arts Museums of San Francisco',\n",
       "  'Metropolitan Museum of Art',\n",
       "  'Metropolitan Museum of Art ',\n",
       "  'Museum of Modern Art',\n",
       "  'National Gallery of Art',\n",
       "  'Nelson-Atkins Museum of Art',\n",
       "  'Cleveland Museum of Art',\n",
       "  'Currier Gallery of Art',\n",
       "  'Europos Parkas Open Air Museum',\n",
       "  'Grounds For Sculpture',\n",
       "  'Hirshhorn Museum and Sculpture Garden',\n",
       "  'Los Angeles County Museum of Art',\n",
       "  'Milwaukee Art Museum',\n",
       "  'Museum of Contemporary Art',\n",
       "  'Nasher Sculpture Center',\n",
       "  'Nerman Museum of Contemporary Art at Johnson County Community College',\n",
       "  'Storm King Art Center',\n",
       "  'The Israel Museum',\n",
       "  'Walker Art Center',\n",
       "  'Weatherspoon Art Museum at The University of North Carolina',\n",
       "  'Smithsonian American Art Museum National Art Inventories']}"
      ]
     },
     "execution_count": 18,
     "metadata": {},
     "output_type": "execute_result"
    }
   ],
   "source": [
    "# import data from mongodb.\n",
    "from pymongo import MongoClient\n",
    "client = MongoClient('localhost', 27017)\n",
    "import pandas as pd\n",
    "import numpy as np\n",
    "import re\n",
    "db = client.art\n",
    "table = db.artists\n",
    "table.find_one()"
   ]
  },
  {
   "cell_type": "code",
   "execution_count": 19,
   "metadata": {
    "collapsed": false
   },
   "outputs": [
    {
     "data": {
      "text/plain": [
       "Index(['_id', 'artist', 'details', 'genre', 'museums'], dtype='object')"
      ]
     },
     "execution_count": 19,
     "metadata": {},
     "output_type": "execute_result"
    }
   ],
   "source": [
    "# Create dataframe and make a copy of csv.\n",
    "data = pd.DataFrame(list(table.find()))\n",
    "data.head\n",
    "data.to_csv('artist.csv')\n",
    "data.columns"
   ]
  },
  {
   "cell_type": "code",
   "execution_count": 20,
   "metadata": {
    "collapsed": false
   },
   "outputs": [
    {
     "data": {
      "text/plain": [
       "0                           \n",
       "1                           \n",
       "2                           \n",
       "3                           \n",
       "4                 Golden Age\n",
       "5                           \n",
       "6                           \n",
       "7                           \n",
       "8                   Tonalist\n",
       "9                           \n",
       "10                 Mannerist\n",
       "11                          \n",
       "12                          \n",
       "13              Neoclassical\n",
       "14                          \n",
       "15                          \n",
       "16                          \n",
       "17                          \n",
       "18                          \n",
       "19                          \n",
       "20                          \n",
       "21                          \n",
       "22                          \n",
       "23                          \n",
       "24                          \n",
       "25                          \n",
       "26                          \n",
       "27                          \n",
       "28                          \n",
       "29                          \n",
       "                ...         \n",
       "9032                        \n",
       "9033                        \n",
       "9034            Neoclassical\n",
       "9035       Early Renaissance\n",
       "9036                 Fauvist\n",
       "9037                        \n",
       "9038             Arte Povera\n",
       "9039                 Realist\n",
       "9040                        \n",
       "9041              Rococo Era\n",
       "9042               Mannerist\n",
       "9043               Mannerist\n",
       "9044                        \n",
       "9045               Mannerist\n",
       "9046                        \n",
       "9047              Rococo Era\n",
       "9048                        \n",
       "9049    Northern Renaissance\n",
       "9050                        \n",
       "9051             Baroque Era\n",
       "9052             Baroque Era\n",
       "9053             Baroque Era\n",
       "9054                        \n",
       "9055                        \n",
       "9056                        \n",
       "9057                        \n",
       "9058                        \n",
       "9059                        \n",
       "9060                        \n",
       "9061          Pre-Raphaelite\n",
       "Name: genre, dtype: object"
      ]
     },
     "execution_count": 20,
     "metadata": {},
     "output_type": "execute_result"
    }
   ],
   "source": [
    "# Make list into string\n",
    "for i in range(len(data['genre'])):\n",
    "    if data['genre'][i] == []:\n",
    "        data['genre'][i] = ''\n",
    "    else:\n",
    "        data['genre'][i] = data['genre'][i][0]\n",
    "data.genre"
   ]
  },
  {
   "cell_type": "code",
   "execution_count": 21,
   "metadata": {
    "collapsed": false
   },
   "outputs": [
    {
     "data": {
      "text/plain": [
       "0       Art Institute of Chicago, Magdalena Abakanowic...\n",
       "1       Alvar Aalto Museum and Foundation, Art Institu...\n",
       "2       Metropolitan Museum of Art, Philadelphia Museu...\n",
       "3       Riza-i Abbasi at the Detroit Institute of Arts...\n",
       "4       Art Institute of Chicago, Fine Arts Museums of...\n",
       "5       Art Institute of Chicago, Dallas Museum of Art...\n",
       "6       Birmingham Museums & Art Gallery, Metropolitan...\n",
       "7       Birmingham Museums & Art Gallery, National Gal...\n",
       "8       Smithsonian American Art Museum National Art I...\n",
       "9       Fine Arts Museums of San Francisco, Louvre Mus...\n",
       "10      Alte Pinakothek, Art Institute of Chicago, Det...\n",
       "11      Musée d'Orsay, National Museum of Women in the...\n",
       "12      Art Institute of Chicago, Fine Arts Museums of...\n",
       "13      Aarhus Kunstmuseum, Funen Kunstmuseum, Nationa...\n",
       "14      Art Institute of Chicago, Gertrude Abercrombie...\n",
       "15      Royal Academy of Arts Collection, Tate Gallery...\n",
       "16      National Museum of the American Indian, Museum...\n",
       "17      Missoula Art Museum, Museum of Contemporary Ph...\n",
       "18                             Metropolitan Museum of Art\n",
       "19      Guggenheim Museum, Guggenheim Museum, Museum o...\n",
       "20      Metropolitan Museum of Art, The Huntington Lib...\n",
       "21      Museum of Modern Art, National Gallery of Art,...\n",
       "22      Guggenheim Museum, Peggy Guggenheim Collection...\n",
       "23      Art Institute of Chicago, Fine Arts Museums of...\n",
       "24      Hermitage Museum, Metropolitan Museum of Art, ...\n",
       "25                                                       \n",
       "26      Art Institute of Chicago, Metropolitan Museum ...\n",
       "27      Museum of Modern Art, Broad Art Foundation, Ca...\n",
       "28      Art Institute of Chicago, Fine Arts Museums of...\n",
       "29      Art Gallery of New South Wales, Courtauld Inst...\n",
       "                              ...                        \n",
       "9032    Museum of Modern Art, Bonnefanten Museum, Kuns...\n",
       "9033    Grazer Kunstverein, Österreichische Galerie Be...\n",
       "9034    Birmingham Museums & Art Gallery, J. Paul Gett...\n",
       "9035    Kunsthistorisches Museum Databank, Louvre Muse...\n",
       "9036    Art Institute of Chicago, Metropolitan Museum ...\n",
       "9037    Art Institute of Chicago, Fine Arts Museums of...\n",
       "9038    Guggenheim Museum, Museum of Modern Art, Natio...\n",
       "9039    Art Institute of Chicago, Art Institute of Chi...\n",
       "9040    Fine Arts Museums of San Francisco, Museum of ...\n",
       "9041    Art Institute of Chicago, Francesco Zuccarelli...\n",
       "9042    Art Institute of Chicago, Drawings from the Bi...\n",
       "9043    Art Institute of Chicago, Fine Arts Museums of...\n",
       "9044    Fine Arts Museums of San Francisco, Metropolit...\n",
       "9045    Fine Arts Museums of San Francisco, J. Paul Ge...\n",
       "9046    Art Institute of Chicago, Museum of Modern Art...\n",
       "9047    Fitzwilliam Museum at the University of Cambri...\n",
       "9048    Art Institute of Chicago, Fine Arts Museums of...\n",
       "9049    Fine Arts Museums of San Francisco, Cleveland ...\n",
       "9050    Fine Arts Museums of San Francisco, Arthur Ros...\n",
       "9051    Alte Pinakothek, Art Institute of Chicago, Fin...\n",
       "9052                             Art Institute of Chicago\n",
       "9053                               Louvre Museum Database\n",
       "9054    Fine Arts Museums of San Francisco, Museum of ...\n",
       "9055    Art Institute of Chicago, Metropolitan Museum ...\n",
       "9056    Margaret Lindsay Williams at the National Port...\n",
       "9057                                                     \n",
       "9058    Fine Arts Museums of San Francisco, Keith Shaw...\n",
       "9059    Art Institute of Chicago, Museum of Modern Art...\n",
       "9060    William Williams at the Detroit Institute of A...\n",
       "9061    National Museums Liverpool, The Huntington Lib...\n",
       "Name: museums, dtype: object"
      ]
     },
     "execution_count": 21,
     "metadata": {},
     "output_type": "execute_result"
    }
   ],
   "source": [
    "# Make list into string\n",
    "for i in range(len(data['museums'])):\n",
    "    if data['museums'][i] == []:\n",
    "        data['museums'][i] = ''\n",
    "    else:\n",
    "        data['museums'][i] = ', '.join(data['museums'][i])\n",
    "data.museums"
   ]
  },
  {
   "cell_type": "code",
   "execution_count": 22,
   "metadata": {
    "collapsed": false
   },
   "outputs": [
    {
     "name": "stderr",
     "output_type": "stream",
     "text": [
      "/Users/danlizeng/anaconda/lib/python3.5/site-packages/ipykernel/__main__.py:6: SettingWithCopyWarning: \n",
      "A value is trying to be set on a copy of a slice from a DataFrame\n",
      "\n",
      "See the caveats in the documentation: http://pandas.pydata.org/pandas-docs/stable/indexing.html#indexing-view-versus-copy\n",
      "/Users/danlizeng/anaconda/lib/python3.5/site-packages/ipykernel/__main__.py:10: SettingWithCopyWarning: \n",
      "A value is trying to be set on a copy of a slice from a DataFrame\n",
      "\n",
      "See the caveats in the documentation: http://pandas.pydata.org/pandas-docs/stable/indexing.html#indexing-view-versus-copy\n",
      "/Users/danlizeng/anaconda/lib/python3.5/site-packages/ipykernel/__main__.py:14: SettingWithCopyWarning: \n",
      "A value is trying to be set on a copy of a slice from a DataFrame\n",
      "\n",
      "See the caveats in the documentation: http://pandas.pydata.org/pandas-docs/stable/indexing.html#indexing-view-versus-copy\n",
      "/Users/danlizeng/anaconda/lib/python3.5/site-packages/pandas/core/indexing.py:128: SettingWithCopyWarning: \n",
      "A value is trying to be set on a copy of a slice from a DataFrame\n",
      "\n",
      "See the caveats in the documentation: http://pandas.pydata.org/pandas-docs/stable/indexing.html#indexing-view-versus-copy\n",
      "  self._setitem_with_indexer(indexer, value)\n",
      "/Users/danlizeng/anaconda/lib/python3.5/site-packages/ipykernel/__main__.py:12: SettingWithCopyWarning: \n",
      "A value is trying to be set on a copy of a slice from a DataFrame\n",
      "\n",
      "See the caveats in the documentation: http://pandas.pydata.org/pandas-docs/stable/indexing.html#indexing-view-versus-copy\n",
      "/Users/danlizeng/anaconda/lib/python3.5/site-packages/ipykernel/__main__.py:16: SettingWithCopyWarning: \n",
      "A value is trying to be set on a copy of a slice from a DataFrame\n",
      "\n",
      "See the caveats in the documentation: http://pandas.pydata.org/pandas-docs/stable/indexing.html#indexing-view-versus-copy\n"
     ]
    },
    {
     "data": {
      "text/plain": [
       "0       1930\n",
       "1       1898\n",
       "2       1526\n",
       "3       1565\n",
       "4       1852\n",
       "5       1898\n",
       "6       1763\n",
       "7       1760\n",
       "8       1840\n",
       "9       1785\n",
       "10      1552\n",
       "11      1858\n",
       "12      1934\n",
       "13      1743\n",
       "14      1908\n",
       "15      1935\n",
       "16      1965\n",
       "17      1944\n",
       "18      1879\n",
       "19      1946\n",
       "20      1815\n",
       "21      1967\n",
       "22      1924\n",
       "23      1940\n",
       "24      1815\n",
       "25      1947\n",
       "26         5\n",
       "27      1963\n",
       "28      1887\n",
       "29      1947\n",
       "        ... \n",
       "9032    1966\n",
       "9033    1958\n",
       "9034    1733\n",
       "9035    1433\n",
       "9036    1887\n",
       "9037    1887\n",
       "9038    1944\n",
       "9039    1860\n",
       "9040    1936\n",
       "9041    1702\n",
       "9042    1542\n",
       "9043    1529\n",
       "9044    1726\n",
       "9045    1540\n",
       "9046    1941\n",
       "9047    1708\n",
       "9048    1870\n",
       "9049    1498\n",
       "9050    1912\n",
       "9051    1598\n",
       "9052    1620\n",
       "9053    1617\n",
       "9054    1951\n",
       "9055    1956\n",
       "9056    1887\n",
       "9057    1888\n",
       "9058    1905\n",
       "9059    1954\n",
       "9060    1727\n",
       "9061    1823\n",
       "Name: born, dtype: object"
      ]
     },
     "execution_count": 22,
     "metadata": {},
     "output_type": "execute_result"
    }
   ],
   "source": [
    "# Pull out years info to create 2 columns born and death\n",
    "data['born'] = pd.Series(np.arange(len(data.details)))\n",
    "data['death'] = pd.Series(np.arange(len(data.details)))\n",
    "\n",
    "for i in range(len(data['details'])):\n",
    "    data.details[i] = list(map(lambda s: re.sub('[\\[,\\]]', '', s), data.details[i]))\n",
    "    years = list(map(lambda s: re.findall('(\\d+)', s), data.details[i]))\n",
    "    years = [x for x in years if len(x) != 0]\n",
    "    if len(years) != 0 :\n",
    "        data['born'][i] = years[0][0]\n",
    "        if len(years[0]) > 1:\n",
    "            data['death'][i] = years[0][1]\n",
    "        else:\n",
    "            data['death'][i] = \"\"\n",
    "    else:\n",
    "        data['born'][i] = \"\"\n",
    "        data['death'][i] = \"\"\n",
    "data.born"
   ]
  },
  {
   "cell_type": "code",
   "execution_count": 23,
   "metadata": {
    "collapsed": false
   },
   "outputs": [
    {
     "name": "stderr",
     "output_type": "stream",
     "text": [
      "/Users/danlizeng/anaconda/lib/python3.5/site-packages/ipykernel/__main__.py:6: SettingWithCopyWarning: \n",
      "A value is trying to be set on a copy of a slice from a DataFrame\n",
      "\n",
      "See the caveats in the documentation: http://pandas.pydata.org/pandas-docs/stable/indexing.html#indexing-view-versus-copy\n",
      "/Users/danlizeng/anaconda/lib/python3.5/site-packages/pandas/core/indexing.py:128: SettingWithCopyWarning: \n",
      "A value is trying to be set on a copy of a slice from a DataFrame\n",
      "\n",
      "See the caveats in the documentation: http://pandas.pydata.org/pandas-docs/stable/indexing.html#indexing-view-versus-copy\n",
      "  self._setitem_with_indexer(indexer, value)\n"
     ]
    },
    {
     "data": {
      "text/plain": [
       "0         Magdalena\n",
       "1             Alvar\n",
       "2           Masséot\n",
       "3            Riza-i\n",
       "4             Edwin\n",
       "5          Berenice\n",
       "6              John\n",
       "7            Lemuel\n",
       "8             Maria\n",
       "9              Abel\n",
       "10             Hans\n",
       "11           Louise\n",
       "12          Sigmund\n",
       "13          Nicolai\n",
       "14         Gertrude\n",
       "15             Ivor\n",
       "16             Tony\n",
       "17             Mark\n",
       "18           Albert\n",
       "19           Marina\n",
       "20             John\n",
       "21            Tomma\n",
       "22            Carla\n",
       "23             Vito\n",
       "24          Andreas\n",
       "25            Chris\n",
       "26              The\n",
       "27            Franz\n",
       "28              Max\n",
       "29            Roger\n",
       "           ...     \n",
       "9032          Artur\n",
       "9033          Heimo\n",
       "9034         Johann\n",
       "9035          Marco\n",
       "9036     Marguerite\n",
       "9037        William\n",
       "9038       Gilberto\n",
       "9039         Anders\n",
       "9040          Larry\n",
       "9041      Francesco\n",
       "9042       Federico\n",
       "9043         Taddeo\n",
       "9044        Antonio\n",
       "9045         Jacopo\n",
       "9046            Joe\n",
       "9047      Francesco\n",
       "9048        Ignacio\n",
       "9049        Mathias\n",
       "9050      Francisco\n",
       "9051      Francisco\n",
       "9052           Juan\n",
       "9053        Michael\n",
       "9054          Toots\n",
       "9055    Christopher\n",
       "9056       Margaret\n",
       "9057        Pauline\n",
       "9058          Keith\n",
       "9059            Sue\n",
       "9060        William\n",
       "9061         Daniel\n",
       "Name: firstName, dtype: object"
      ]
     },
     "execution_count": 23,
     "metadata": {},
     "output_type": "execute_result"
    }
   ],
   "source": [
    "# Make a new column of the first names.\n",
    "data['firstName'] = pd.Series(np.arange(len(data.artist)))\n",
    "for i in range(len(data['artist'])):\n",
    "    name = list(map(lambda s: s.split(), data.artist[i]))\n",
    "    if len (name) != 0:\n",
    "        data['firstName'][i]  = name[0][0]\n",
    "data['firstName']"
   ]
  },
  {
   "cell_type": "code",
   "execution_count": 24,
   "metadata": {
    "collapsed": false
   },
   "outputs": [
    {
     "data": {
      "text/plain": [
       "0             Magdalena Abakanowicz\n",
       "1                       Alvar Aalto\n",
       "2                 Masséot Abaquesne\n",
       "3                     Riza-i Abbasi\n",
       "4                Edwin Austin Abbey\n",
       "5                   Berenice Abbott\n",
       "6                 John White Abbott\n",
       "7             Lemuel Francis Abbott\n",
       "8                    Maria A'Becket\n",
       "9                     Abel de Pujol\n",
       "10                  Hans von Aachen\n",
       "11                    Louise Abbema\n",
       "12                   Sigmund Abeles\n",
       "13               Nicolai Abildgaard\n",
       "14             Gertrude Abercrombie\n",
       "15                    Ivor Abrahams\n",
       "16                      Tony Abeyta\n",
       "17                  Mark Abrahamson\n",
       "18                Albert Abramowitz\n",
       "19                 Marina Abramovic\n",
       "20                     John Absolon\n",
       "21                       Tomma Abts\n",
       "22                    Carla Accardi\n",
       "23                     Vito Acconci\n",
       "24                Andreas Achenbach\n",
       "25                  Chris Achilleos\n",
       "26             The Achilles Painter\n",
       "27                  Franz Ackermann\n",
       "28                    Max Ackermann\n",
       "29                    Roger Ackling\n",
       "                   ...             \n",
       "9032                Artur Zmijewski\n",
       "9033                 Heimo Zobernig\n",
       "9034                 Johann Zoffany\n",
       "9035                    Marco Zoppo\n",
       "9036     Marguerite Thompson Zorach\n",
       "9037                 William Zorach\n",
       "9038                 Gilberto Zorio\n",
       "9039                    Anders Zorn\n",
       "9040                      Larry Zox\n",
       "9041           Francesco Zuccarelli\n",
       "9042               Federico Zuccaro\n",
       "9043                 Taddeo Zuccaro\n",
       "9044                 Antonio Zucchi\n",
       "9045                  Jacopo Zucchi\n",
       "9046                     Joe Zucker\n",
       "9047                Francesco Zugno\n",
       "9048                Ignacio Zuloaga\n",
       "9049                  Mathias Zündt\n",
       "9050               Francisco Zúñiga\n",
       "9051          Francisco de Zurbarán\n",
       "9052               Juan de Zurbarán\n",
       "9053                   Michael Zürn\n",
       "9054                   Toots Zynsky\n",
       "9055           Christopher Williams\n",
       "9056      Margaret Lindsay Williams\n",
       "9057         Pauline Bliss Williams\n",
       "9058            Keith Shaw Williams\n",
       "9059                   Sue Williams\n",
       "9060               William Williams\n",
       "9061    Daniel Alexander Williamson\n",
       "Name: artist, dtype: object"
      ]
     },
     "execution_count": 24,
     "metadata": {},
     "output_type": "execute_result"
    }
   ],
   "source": [
    "# Make list into string\n",
    "for i in range(len(data['artist'])):\n",
    "    if data['artist'][i] == []:\n",
    "        data['artist'][i] = ''\n",
    "    else:\n",
    "        data['artist'][i] = data['artist'][i][0]\n",
    "data.artist"
   ]
  },
  {
   "cell_type": "code",
   "execution_count": 25,
   "metadata": {
    "collapsed": false
   },
   "outputs": [
    {
     "name": "stderr",
     "output_type": "stream",
     "text": [
      "/Users/danlizeng/anaconda/lib/python3.5/site-packages/ipykernel/__main__.py:6: SettingWithCopyWarning: \n",
      "A value is trying to be set on a copy of a slice from a DataFrame\n",
      "\n",
      "See the caveats in the documentation: http://pandas.pydata.org/pandas-docs/stable/indexing.html#indexing-view-versus-copy\n",
      "/Users/danlizeng/anaconda/lib/python3.5/site-packages/pandas/core/indexing.py:128: SettingWithCopyWarning: \n",
      "A value is trying to be set on a copy of a slice from a DataFrame\n",
      "\n",
      "See the caveats in the documentation: http://pandas.pydata.org/pandas-docs/stable/indexing.html#indexing-view-versus-copy\n",
      "  self._setitem_with_indexer(indexer, value)\n"
     ]
    },
    {
     "data": {
      "text/plain": [
       "0            Polish\n",
       "1           Finnish\n",
       "2            French\n",
       "3           Persian\n",
       "4          American\n",
       "5          American\n",
       "6           English\n",
       "7           English\n",
       "8          American\n",
       "9            French\n",
       "10           German\n",
       "11           French\n",
       "12         American\n",
       "13           Danish\n",
       "14         American\n",
       "15          British\n",
       "16         American\n",
       "17         American\n",
       "18         American\n",
       "19      Yugoslavian\n",
       "20          English\n",
       "21           German\n",
       "22          Italian\n",
       "23         American\n",
       "24           German\n",
       "25          British\n",
       "26            Greek\n",
       "27           German\n",
       "28           German\n",
       "29          British\n",
       "           ...     \n",
       "9032         Polish\n",
       "9033       Austrian\n",
       "9034         German\n",
       "9035        Italian\n",
       "9036       American\n",
       "9037     Lithuanian\n",
       "9038        Italian\n",
       "9039        Swedish\n",
       "9040       American\n",
       "9041        Italian\n",
       "9042        Italian\n",
       "9043        Italian\n",
       "9044        Italian\n",
       "9045        Italian\n",
       "9046       American\n",
       "9047        Italian\n",
       "9048        Spanish\n",
       "9049         German\n",
       "9050    Costa Rican\n",
       "9051        Spanish\n",
       "9052        Spanish\n",
       "9053         German\n",
       "9054       American\n",
       "9055       American\n",
       "9056        British\n",
       "9057       American\n",
       "9058       American\n",
       "9059       American\n",
       "9060        English\n",
       "9061        British\n",
       "Name: nationality, dtype: object"
      ]
     },
     "execution_count": 25,
     "metadata": {},
     "output_type": "execute_result"
    }
   ],
   "source": [
    "# Column of Nationality\n",
    "country_list = [\"Armenian\",\"English\",\"Irish\",\"Austrian\",\"Italian\",\"Belgian\",\"Latvian\",\"Bohemian\",\"Lithuanian\",\"British\",\"Luxembourgeois\",\"Bulgarian\",\"Maltese\",\"Corinthian\",\"Moravian\",\"Croatian\",\"Netherlandish\",\"Czech\",\"Norwegian\",\"Dalmatian\",\"Polish\",\"Danish\",\"Portuguese\",\"Dutch\",\"Romanian\",\"Finnish\",\"Russian\",\"Flemish\",\"Serbian\",\"French\",\"Spanish\",\"German\",\"Swedish\",\"Greek\",\"Swiss\",\"Hungarian\",\"Ukrainian\",\"Icelandic\",\"Yugoslavian\",\"American\",\"African-American\",\"Native American\",\"Native Canadian\",\"Canadian\",\"Argentine\",\"Barbadian\",\"Bolivian\",\"Brazilian\",\"Chilean\",\"Colombian\",\"Costa Rican\",\"Cuban\",\"Guatemalan\",\"Jamaican\",\"Mexican\",\"Nicaraguan\",\"Peruvian\",\"Puerto Rican\",\"Uruguayan\",\"Venezuelan\",\"African\",\"Australian\",\"Australian Aboriginal\",\"New Zealand\",\"Chinese\",\"Filipino\",\"Japanese\",\"Korean\",\"Egyptian\",\"Indian\",\"Iranian\",\"Israeli\",\"Pakistani\",\"Palestinian\",\"Persian\",\"Turkish\"]\n",
    "\n",
    "data['nationality'] = pd.Series(np.arange(len(data.details)))\n",
    "for i in range(len(data['details'])):\n",
    "    data['nationality'][i] = \"\"\n",
    "    if len(data.details[i]) != 0:\n",
    "        for country_code in country_list:\n",
    "            if country_code in data['details'][i][0]:\n",
    "                data['nationality'][i] = country_code\n",
    "                break\n",
    "data['nationality']"
   ]
  },
  {
   "cell_type": "code",
   "execution_count": 26,
   "metadata": {
    "collapsed": false
   },
   "outputs": [
    {
     "name": "stderr",
     "output_type": "stream",
     "text": [
      "/Users/danlizeng/anaconda/lib/python3.5/site-packages/ipykernel/__main__.py:5: SettingWithCopyWarning: \n",
      "A value is trying to be set on a copy of a slice from a DataFrame\n",
      "\n",
      "See the caveats in the documentation: http://pandas.pydata.org/pandas-docs/stable/indexing.html#indexing-view-versus-copy\n",
      "/Users/danlizeng/anaconda/lib/python3.5/site-packages/ipykernel/__main__.py:6: SettingWithCopyWarning: \n",
      "A value is trying to be set on a copy of a slice from a DataFrame\n",
      "\n",
      "See the caveats in the documentation: http://pandas.pydata.org/pandas-docs/stable/indexing.html#indexing-view-versus-copy\n",
      "/Users/danlizeng/anaconda/lib/python3.5/site-packages/pandas/core/indexing.py:128: SettingWithCopyWarning: \n",
      "A value is trying to be set on a copy of a slice from a DataFrame\n",
      "\n",
      "See the caveats in the documentation: http://pandas.pydata.org/pandas-docs/stable/indexing.html#indexing-view-versus-copy\n",
      "  self._setitem_with_indexer(indexer, value)\n"
     ]
    },
    {
     "data": {
      "text/plain": [
       "0                 Sculptor\n",
       "1                Architect\n",
       "2                   Potter\n",
       "3                  Painter\n",
       "4              Illustrator\n",
       "5             Photographer\n",
       "6                  Painter\n",
       "7                  Painter\n",
       "8                  Painter\n",
       "9                  Painter\n",
       "10                 Painter\n",
       "11                 Painter\n",
       "12                        \n",
       "13                 Painter\n",
       "14                        \n",
       "15                Sculptor\n",
       "16                 Painter\n",
       "17            Photographer\n",
       "18                        \n",
       "19      Performance Artist\n",
       "20                 Painter\n",
       "21                 Painter\n",
       "22                        \n",
       "23                Sculptor\n",
       "24                 Painter\n",
       "25                 Painter\n",
       "26                 Painter\n",
       "27                 Painter\n",
       "28                 Painter\n",
       "29                Sculptor\n",
       "               ...        \n",
       "9032                      \n",
       "9033                      \n",
       "9034               Painter\n",
       "9035               Painter\n",
       "9036               Painter\n",
       "9037              Sculptor\n",
       "9038              Sculptor\n",
       "9039               Painter\n",
       "9040               Painter\n",
       "9041               Painter\n",
       "9042               Painter\n",
       "9043               Painter\n",
       "9044               Painter\n",
       "9045               Painter\n",
       "9046               Painter\n",
       "9047               Painter\n",
       "9048               Painter\n",
       "9049              Sculptor\n",
       "9050              Sculptor\n",
       "9051               Painter\n",
       "9052               Painter\n",
       "9053              Sculptor\n",
       "9054            Glassmaker\n",
       "9055                      \n",
       "9056                      \n",
       "9057                      \n",
       "9058               Painter\n",
       "9059               Painter\n",
       "9060               Painter\n",
       "9061               Painter\n",
       "Name: medium, dtype: object"
      ]
     },
     "execution_count": 26,
     "metadata": {},
     "output_type": "execute_result"
    }
   ],
   "source": [
    "# Column of Medium\n",
    "medium_list = [\"Painter\",\"Draughtsman\",\"Engraver\",\"Glass Painter\",\"Illustrator\",\"Manuscript Illuminator\",\"Miniaturist\",\"Muralist\",\"Photographer\",\"Printmaker\",\"Vase Painter\",\"Assemblage Artist\",\"Ceramicist\",\"Furniture Artist\",\"Glassmaker\",\"Goldsmith\",\"Jeweller\",\"Kinetic Artist\",\"Mixed Media Artist\",\"Potter\",\"Sculptor\",\"Silversmith\",\"Stained Glass Artist\",\"Textile Artist\",\"Wood Carver\",\"Woodturner\",\"Architect\",\"Conceptual Artist\",\"Designer\",\"Digital Artist\",\"Environmental Artist\",\"Installation Artist\",\"Inventor\",\"Performance Artist\",\"Publisher\",\"Video Artist\",\"Writer\"]\n",
    "data['medium'] = pd.Series(np.arange(len(data.details)))\n",
    "for i in range(len(data['details'])):\n",
    "    data.details[i] = [\"\".join(data.details[i])]\n",
    "    data['medium'][i] = \"\"\n",
    "    if len(data.details[i]) != 0:\n",
    "        for medium_code in medium_list:\n",
    "            if medium_code in data['details'][i][0]:\n",
    "                data['medium'][i] = medium_code\n",
    "                break\n",
    "data['medium']"
   ]
  },
  {
   "cell_type": "code",
   "execution_count": 27,
   "metadata": {
    "collapsed": false
   },
   "outputs": [
    {
     "data": {
      "text/plain": [
       "Index(['_id', 'artist', 'details', 'genre', 'museums', 'born', 'death',\n",
       "       'firstName', 'nationality', 'medium'],\n",
       "      dtype='object')"
      ]
     },
     "execution_count": 27,
     "metadata": {},
     "output_type": "execute_result"
    }
   ],
   "source": [
    "data.columns"
   ]
  },
  {
   "cell_type": "code",
   "execution_count": 28,
   "metadata": {
    "collapsed": true
   },
   "outputs": [],
   "source": [
    "data.to_csv('artist_cleaned.csv')"
   ]
  },
  {
   "cell_type": "code",
   "execution_count": null,
   "metadata": {
    "collapsed": true
   },
   "outputs": [],
   "source": []
  }
 ],
 "metadata": {
  "kernelspec": {
   "display_name": "Python 3",
   "language": "python",
   "name": "python3"
  },
  "language_info": {
   "codemirror_mode": {
    "name": "ipython",
    "version": 3
   },
   "file_extension": ".py",
   "mimetype": "text/x-python",
   "name": "python",
   "nbconvert_exporter": "python",
   "pygments_lexer": "ipython3",
   "version": "3.5.1"
  }
 },
 "nbformat": 4,
 "nbformat_minor": 0
}
